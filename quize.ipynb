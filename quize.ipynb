{
 "cells": [
  {
   "cell_type": "code",
   "execution_count": 1,
   "id": "91ce22ab",
   "metadata": {},
   "outputs": [],
   "source": [
    "#!/usr/bin/env python\n",
    "# coding: utf-8\n",
    "\n",
    "# In[1]:\n",
    "\n",
    "\n",
    "import csv \n",
    "\n",
    "\n",
    "# In[4]:\n",
    "\n",
    "\n",
    "#field name\n",
    "fields=['name','contect']\n",
    "data=[['om','6355786899'],['sai','9023137700'],\n",
    "      ['ram','8160876821'],['kishan','9979246401']\n",
    "     ]\n",
    "filename=\"contect.csv\"\n",
    "\n",
    "\n",
    "# In[6]:\n",
    "\n",
    "\n",
    "with open(filename, 'w',newline='') as csvfile: \n",
    "    csvwriter = csv.writer(csvfile) \n",
    "    csvwriter.writerow(fields) \n",
    "    csvwriter.writerows(data)\n",
    "\n",
    "\n",
    "# In[7]:\n",
    "\n",
    "\n",
    "with open(filename, 'r') as csvfile: \n",
    "    csvreader = csv.reader(csvfile)\n",
    "    field=next(csvreader)\n",
    "\n",
    "\n",
    "# In[ ]:\n"
   ]
  },
  {
   "cell_type": "code",
   "execution_count": null,
   "id": "f2c182d5",
   "metadata": {},
   "outputs": [],
   "source": []
  }
 ],
 "metadata": {
  "kernelspec": {
   "display_name": "Python 3 (ipykernel)",
   "language": "python",
   "name": "python3"
  },
  "language_info": {
   "codemirror_mode": {
    "name": "ipython",
    "version": 3
   },
   "file_extension": ".py",
   "mimetype": "text/x-python",
   "name": "python",
   "nbconvert_exporter": "python",
   "pygments_lexer": "ipython3",
   "version": "3.9.6"
  }
 },
 "nbformat": 4,
 "nbformat_minor": 5
}
